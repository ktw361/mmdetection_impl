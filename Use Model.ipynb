{
 "cells": [
  {
   "cell_type": "code",
   "execution_count": null,
   "metadata": {},
   "outputs": [],
   "source": [
    "import os\n",
    "import os.path as osp\n",
    "import sys\n",
    "import numpy as np\n",
    "import torch, torchvision\n",
    "from torch import nn\n",
    "from torch.utils import model_zoo\n",
    "from torch.nn.parallel import DataParallel\n",
    "from torch.utils.data import DataLoader\n",
    "from torch.utils.data.dataset import ConcatDataset\n",
    "# %load_ext autoreload\n",
    "# %autoreload 2"
   ]
  },
  {
   "cell_type": "code",
   "execution_count": null,
   "metadata": {},
   "outputs": [],
   "source": [
    "# Get cfg\n",
    "import mmcv\n",
    "config_file = 'visdrone/configs/ssd300.py'\n",
    "cfg = mmcv.Config.fromfile(config_file)"
   ]
  },
  {
   "cell_type": "code",
   "execution_count": null,
   "metadata": {},
   "outputs": [],
   "source": [
    "# Get model\n",
    "from mmdet.models import build_detector\n",
    "model = build_detector(cfg.model, train_cfg=None, test_cfg=cfg.test_cfg)\n",
    "# load from checkpoint\n",
    "from mmcv.runner import load_checkpoint\n",
    "checkpoint_file = 'work_dirs/ssd300_visdrone/latest.pth'\n",
    "_ = load_checkpoint(model, checkpoint_file)"
   ]
  },
  {
   "cell_type": "code",
   "execution_count": null,
   "metadata": {},
   "outputs": [],
   "source": [
    "from mmdet.apis import inference_detector, show_result\n",
    "\n",
    "# test a single image and show the results\n",
    "img = '/tmp/visdrone-debug/images/0000001_02999_d_0000005.jpg'\n",
    "result = inference_detector(model, img, cfg, device='cuda')\n",
    "# result is list of np array with [N, 5]\n",
    "# show_result(img, result, 'visdrone')"
   ]
  },
  {
   "cell_type": "code",
   "execution_count": null,
   "metadata": {},
   "outputs": [],
   "source": []
  },
  {
   "cell_type": "markdown",
   "metadata": {},
   "source": [
    "# First visualize coco dataset"
   ]
  },
  {
   "cell_type": "code",
   "execution_count": null,
   "metadata": {},
   "outputs": [],
   "source": [
    "import sys\n",
    "sys.path.append('/home/damon/detorch/')\n",
    "from visualization_utils import *\n",
    "from debug_utils import *"
   ]
  },
  {
   "cell_type": "code",
   "execution_count": null,
   "metadata": {},
   "outputs": [],
   "source": [
    "# Conver json['annotations'] to boxes\n",
    "def get_gt_boxes_from_img_name_COCO(json_ann, image_name):\n",
    "    image_id = None\n",
    "    for im in json_ann['images']:\n",
    "        if im['file_name'] != image_name:\n",
    "            continue\n",
    "        else:\n",
    "            image_id = im['id']\n",
    "            break\n",
    "    print(image_id)\n",
    "    if image_id == None:\n",
    "        raise ValueError(\"Not found\")\n",
    "    boxes = []\n",
    "    for info in json_ann['annotations']:\n",
    "        if info['image_id'] == image_id:\n",
    "            x1, y1, w, h = info['bbox']\n",
    "            bbox = [y1, x1, y1 + h, x1 + w]\n",
    "            boxes.append(bbox)\n",
    "    return np.asarray(boxes)"
   ]
  },
  {
   "cell_type": "code",
   "execution_count": null,
   "metadata": {
    "scrolled": true
   },
   "outputs": [],
   "source": [
    "coco_imgs = '/home/damon/DATASETS/COCO/val2017/'\n",
    "coco_anno_file = '/home/damon/DATASETS/COCO/annotations/instances_val2017.json'\n",
    "coco_annos = mmcv.load(coco_anno_file)\n",
    "images = coco_annos['images']\n",
    "annotations = coco_annos['annotations']\n",
    "all_ids = [q['image_id'] for q in annotations]\n",
    "id2fname = {v['id']: v['file_name'] for v in coco_annos['images'] if v['id'] in all_ids}\n",
    "fname2id = {fn: id for id, fn in id2fname.items()}\n",
    "# find name by id\n",
    "ind = np.random.randint(len(id2fname.keys()))\n",
    "example_img = id2fname[all_ids[ind]]\n",
    "print(example_img)\n",
    "example_img_full_path = osp.join(coco_imgs, example_img)\n",
    "boxes = get_gt_boxes_from_img_name_COCO(coco_annos, example_img)"
   ]
  },
  {
   "cell_type": "code",
   "execution_count": null,
   "metadata": {},
   "outputs": [],
   "source": [
    "img = mmcv.imread(example_img_full_path)"
   ]
  },
  {
   "cell_type": "code",
   "execution_count": null,
   "metadata": {},
   "outputs": [],
   "source": [
    "draw_bounding_boxes_on_image_array(img, boxes)\n",
    "visualize_image_array(img)"
   ]
  },
  {
   "cell_type": "code",
   "execution_count": null,
   "metadata": {},
   "outputs": [],
   "source": [
    "example_img"
   ]
  },
  {
   "cell_type": "markdown",
   "metadata": {},
   "source": [
    "# Vissualize visdrone dataset"
   ]
  },
  {
   "cell_type": "code",
   "execution_count": null,
   "metadata": {},
   "outputs": [],
   "source": [
    "import sys\n",
    "sys.path.append('/home/damon/detorch/')\n",
    "from visualization_utils import *\n",
    "from debug_utils import *"
   ]
  },
  {
   "cell_type": "code",
   "execution_count": null,
   "metadata": {},
   "outputs": [],
   "source": [
    "ann = '/tmp/visdrone-debug/annotations_debug.json'\n",
    "gts = mmcv.load(ann)"
   ]
  },
  {
   "cell_type": "code",
   "execution_count": null,
   "metadata": {},
   "outputs": [],
   "source": [
    "img_name = '0000001_02999_d_0000005.jpg'\n",
    "img_full = osp.join('/tmp/visdrone-debug/images', img_name)\n",
    "img_arr = mmcv.imread(img_full)\n",
    "img_name = osp.join('images', img_name)\n",
    "boxes = get_gt_boxes_from_img_name(gts, img_name)"
   ]
  },
  {
   "cell_type": "code",
   "execution_count": null,
   "metadata": {},
   "outputs": [],
   "source": [
    "draw_bounding_boxes_on_image_array(img_arr, boxes)\n",
    "visualize_image_array(img_arr)"
   ]
  },
  {
   "cell_type": "code",
   "execution_count": null,
   "metadata": {},
   "outputs": [],
   "source": []
  }
 ],
 "metadata": {
  "kernelspec": {
   "display_name": "Python 3",
   "language": "python",
   "name": "python3"
  },
  "language_info": {
   "codemirror_mode": {
    "name": "ipython",
    "version": 3
   },
   "file_extension": ".py",
   "mimetype": "text/x-python",
   "name": "python",
   "nbconvert_exporter": "python",
   "pygments_lexer": "ipython3",
   "version": "3.7.3"
  },
  "toc": {
   "base_numbering": 1,
   "nav_menu": {},
   "number_sections": true,
   "sideBar": true,
   "skip_h1_title": false,
   "title_cell": "Table of Contents",
   "title_sidebar": "Contents",
   "toc_cell": false,
   "toc_position": {},
   "toc_section_display": true,
   "toc_window_display": false
  }
 },
 "nbformat": 4,
 "nbformat_minor": 2
}
