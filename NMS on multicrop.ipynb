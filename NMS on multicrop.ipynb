{
 "cells": [
  {
   "cell_type": "code",
   "execution_count": null,
   "metadata": {
    "hide_input": false
   },
   "outputs": [],
   "source": [
    "import os\n",
    "import os.path as osp\n",
    "import sys\n",
    "import numpy as np\n",
    "import torch, torchvision\n",
    "import torch.nn.functional as F\n",
    "from torch import nn\n",
    "import matplotlib.pyplot as plt\n",
    "import mmdet\n",
    "import mmcv\n",
    "%load_ext autoreload\n",
    "%autoreload 2\n",
    "from mmdet.models import build_detector\n",
    "from mmdet.datasets import get_dataset\n",
    "from mmdet.datasets import transforms"
   ]
  },
  {
   "cell_type": "code",
   "execution_count": null,
   "metadata": {},
   "outputs": [],
   "source": [
    "import tempfile\n",
    "from mmdet.core.evaluation import coco_utils\n",
    "from mmdet.core.post_processing.bbox_nms import multiclass_nms\n",
    "from mmdet.ops.nms import nms_wrapper"
   ]
  },
  {
   "cell_type": "code",
   "execution_count": null,
   "metadata": {},
   "outputs": [],
   "source": [
    "cfg = './visdrone/configs/ssd300.py'\n",
    "cfg = mmcv.Config.fromfile(cfg)\n",
    "# gt_json = cfg.data.test.ann_file\n",
    "dataset = get_dataset(cfg.data.test)"
   ]
  },
  {
   "cell_type": "code",
   "execution_count": null,
   "metadata": {},
   "outputs": [],
   "source": [
    "txt_dir = '/tmp/fuckyoudir/'"
   ]
  },
  {
   "cell_type": "code",
   "execution_count": null,
   "metadata": {},
   "outputs": [],
   "source": [
    "def txt2det(fid, num_classes=10):\n",
    "    \"\"\" Returns detecton result from one txt(image)\n",
    "    Args:\n",
    "        fid: opened file handler.\n",
    "    \"\"\"\n",
    "    lines = fid.readlines()\n",
    "    lines = [v.strip('\\n') for v in lines]\n",
    "    lines = [v.split(',') for v in lines]\n",
    "    dets = [[] for _ in range(num_classes)]\n",
    "    for line in lines:\n",
    "        x1, y1, w, h, sc, label, trun, occ = line\n",
    "        label = int(label)\n",
    "        if label == 0 or label == 11:\n",
    "            continue\n",
    "        assert label > 0 and label < 11, 'Bad label'\n",
    "        x1, y1 = int(x1), int(y1)\n",
    "        w, h = int(w), int(h)\n",
    "        score = float(sc)\n",
    "        x2 = x1 + w\n",
    "        y2 = y1 + h\n",
    "        bbox = np.asarray([x1, y1, x2, y2, score], dtype=np.float32)\n",
    "        dets[label - 1].append(bbox)\n",
    "    for i in range(len(dets)):\n",
    "        if len(dets[i]) == 0:\n",
    "            dets[i] = np.empty([0, 5])\n",
    "        else:\n",
    "            dets[i] = np.stack(dets[i], 0)\n",
    "    return dets"
   ]
  },
  {
   "cell_type": "code",
   "execution_count": null,
   "metadata": {},
   "outputs": [],
   "source": [
    "def get_dets(savedir, dataset):\n",
    "    \"\"\" This function return dets format on original image,\n",
    "    ignoring crops, it calls txt2det(). \n",
    "    \n",
    "    Returns:\n",
    "        list(image) of list(class) of [N, 5]\n",
    "    \"\"\"\n",
    "    results = []\n",
    "    for info in dataset.img_infos:\n",
    "        img_name = info['filename']\n",
    "        stem = img_name.split('.')[0].split('/')[1]\n",
    "\n",
    "        # do merge\n",
    "        for i in range(10):\n",
    "            if i == 9:\n",
    "                exp_name = '{}_{}.txt'.format(stem, i)\n",
    "                exp_name = os.path.join(txt_dir, exp_name)\n",
    "                assert osp.exists(exp_name)\n",
    "                with open(exp_name) as f:\n",
    "                    result = txt2det(f)\n",
    "\n",
    "        results.append(result)    "
   ]
  },
  {
   "cell_type": "code",
   "execution_count": null,
   "metadata": {},
   "outputs": [],
   "source": [
    "def get_dets_merge(savedir, dataset):\n",
    "    \"\"\" This function return dets format on original image,\n",
    "    MERGE crops, it calls txt2det(). \n",
    "    \n",
    "    Returns:\n",
    "        list(image) of list(class) of [N, 5]\n",
    "    \"\"\"\n",
    "    results = []\n",
    "    for info in dataset.img_infos:\n",
    "        img_name = info['filename']\n",
    "        stem = img_name.split('.')[0].split('/')[1]\n",
    "\n",
    "        # do merge\n",
    "        single_results =  []\n",
    "        for i in range(10):\n",
    "            exp_name = '{}_{}.txt'.format(stem, i)\n",
    "            exp_name = os.path.join(txt_dir, exp_name)\n",
    "            assert osp.exists(exp_name)\n",
    "            with open(exp_name) as f:\n",
    "                sin_res = txt2det(f)\n",
    "            single_results.append(sin_res)\n",
    "        \n",
    "        # \n",
    "        num_classes = len(single_results[0])\n",
    "        per_cls_bboxes = [[] for _ in range(num_classes)]  # [ []*10]\n",
    "        for result in single_results:\n",
    "            for i, res in enumerate(result):\n",
    "                per_cls_bboxes[i].append(res)\n",
    "        for i in range(num_classes):\n",
    "            per_cls_bboxes[i] = np.concatenate(per_cls_bboxes[i], 0)\n",
    "            \n",
    "        results.append(per_cls_bboxes)    \n",
    "    return results"
   ]
  },
  {
   "cell_type": "code",
   "execution_count": null,
   "metadata": {},
   "outputs": [],
   "source": [
    "# results = get_dets(savedir=txt_dir, dataset=dataset)\n",
    "results = get_dets_merge(savedir=txt_dir, dataset=dataset)"
   ]
  },
  {
   "cell_type": "code",
   "execution_count": null,
   "metadata": {
    "scrolled": true
   },
   "outputs": [],
   "source": [
    "tf = tempfile.mkstemp(suffix='.json')\n",
    "js = coco_utils.results2json(dataset, results, tf[1])\n",
    "coco_utils.coco_eval(tf[1], ['bbox'], dataset.coco)"
   ]
  },
  {
   "cell_type": "code",
   "execution_count": null,
   "metadata": {},
   "outputs": [],
   "source": []
  },
  {
   "cell_type": "markdown",
   "metadata": {},
   "source": [
    "# NMS"
   ]
  },
  {
   "cell_type": "code",
   "execution_count": null,
   "metadata": {},
   "outputs": [],
   "source": [
    "from visdrone.utils import box_ops"
   ]
  },
  {
   "cell_type": "code",
   "execution_count": null,
   "metadata": {},
   "outputs": [],
   "source": [
    "from time import time"
   ]
  },
  {
   "cell_type": "code",
   "execution_count": null,
   "metadata": {},
   "outputs": [],
   "source": [
    "results2 = results.copy()"
   ]
  },
  {
   "cell_type": "code",
   "execution_count": null,
   "metadata": {},
   "outputs": [],
   "source": [
    "a = time()\n",
    "for idx, res in enumerate(results2):\n",
    "    results2[idx] = box_ops.refine_boxes_multi_class(res, 10, 0.5, 500, 0.5, 'cuda')\n",
    "print(time() - a)"
   ]
  },
  {
   "cell_type": "code",
   "execution_count": null,
   "metadata": {
    "scrolled": true
   },
   "outputs": [],
   "source": [
    "tf = tempfile.mkstemp(suffix='.json')\n",
    "js = coco_utils.results2json(dataset, results2, tf[1])\n",
    "coco_utils.coco_eval(tf[1], ['bbox'], dataset.coco)"
   ]
  },
  {
   "cell_type": "code",
   "execution_count": null,
   "metadata": {},
   "outputs": [],
   "source": []
  },
  {
   "cell_type": "code",
   "execution_count": null,
   "metadata": {},
   "outputs": [],
   "source": [
    "def transfrom_by_refine(results):\n",
    "    for idx, res in enumerate(results):\n",
    "        box_ops.refine_boxes_multi_class(res, 10, 0.5, 500, 0.5)"
   ]
  },
  {
   "cell_type": "code",
   "execution_count": null,
   "metadata": {},
   "outputs": [],
   "source": [
    "def transform_results_by_nms(results, nms_func, iou_thr = 0.5):\n",
    "    for idx, res in enumerate(results):\n",
    "        for i, c_res in enumerate(res):\n",
    "            bb, ind = nms_func(c_res.astype(np.float32), iou_thr)\n",
    "            res[i] = bb\n",
    "    results[idx] = res\n",
    "    return results"
   ]
  },
  {
   "cell_type": "code",
   "execution_count": null,
   "metadata": {
    "scrolled": true
   },
   "outputs": [],
   "source": [
    "import functools\n",
    "nms_func = functools.partial(nms_wrapper.soft_nms, method='linear', sigma=float(0.5), min_score=float(1e-3))\n",
    "ress = transform_results_by_nms(results, nms_func)\n",
    "\n",
    "tf = tempfile.mkstemp(suffix='.json')\n",
    "js = coco_utils.results2json(dataset, ress, tf[1])\n",
    "coco_utils.coco_eval(tf[1], ['bbox'], dataset.coco)"
   ]
  },
  {
   "cell_type": "code",
   "execution_count": null,
   "metadata": {
    "scrolled": true
   },
   "outputs": [],
   "source": [
    "cocores = []\n",
    "for ithr in np.linspace(0.2, 0.95, 10):\n",
    "    ress = transform_results_by_nms(results, iou_thr=ithr)\n",
    "\n",
    "    tf = tempfile.mkstemp(suffix='.json')\n",
    "    js = coco_utils.results2json(dataset, ress, tf[1])\n",
    "    cocores_ = coco_utils.coco_eval(tf[1], ['bbox'], dataset.coco)\n",
    "    cocores.append(cocores_)"
   ]
  },
  {
   "cell_type": "code",
   "execution_count": null,
   "metadata": {},
   "outputs": [],
   "source": [
    "a = torch.zeros([3,4]).numpy()"
   ]
  },
  {
   "cell_type": "code",
   "execution_count": null,
   "metadata": {},
   "outputs": [],
   "source": [
    "a[(a==0).nonzero()]"
   ]
  }
 ],
 "metadata": {
  "kernelspec": {
   "display_name": "Python 3",
   "language": "python",
   "name": "python3"
  },
  "language_info": {
   "codemirror_mode": {
    "name": "ipython",
    "version": 3
   },
   "file_extension": ".py",
   "mimetype": "text/x-python",
   "name": "python",
   "nbconvert_exporter": "python",
   "pygments_lexer": "ipython3",
   "version": "3.7.3"
  },
  "toc": {
   "base_numbering": 1,
   "nav_menu": {},
   "number_sections": true,
   "sideBar": true,
   "skip_h1_title": false,
   "title_cell": "Table of Contents",
   "title_sidebar": "Contents",
   "toc_cell": false,
   "toc_position": {},
   "toc_section_display": true,
   "toc_window_display": false
  }
 },
 "nbformat": 4,
 "nbformat_minor": 2
}
