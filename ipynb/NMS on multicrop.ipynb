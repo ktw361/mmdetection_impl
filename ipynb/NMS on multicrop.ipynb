{
 "cells": [
  {
   "cell_type": "code",
   "execution_count": 5,
   "metadata": {
    "hide_input": false
   },
   "outputs": [
    {
     "name": "stdout",
     "output_type": "stream",
     "text": [
      "The autoreload extension is already loaded. To reload it, use:\n",
      "  %reload_ext autoreload\n"
     ]
    }
   ],
   "source": [
    "import os\n",
    "os.chdir('/home/damon/Github/mmlab/mmdetection/')\n",
    "import os.path as osp\n",
    "import sys\n",
    "import numpy as np\n",
    "import torch, torchvision\n",
    "import torch.nn.functional as F\n",
    "from torch import nn\n",
    "import matplotlib.pyplot as plt\n",
    "import mmdet\n",
    "import mmcv\n",
    "%load_ext autoreload\n",
    "%autoreload 2\n",
    "from mmdet.models import build_detector\n",
    "from mmdet.datasets import get_dataset\n",
    "from mmdet.datasets import transforms\n",
    "\n",
    "from visdrone.utils import box_ops\n",
    "from time import time"
   ]
  },
  {
   "cell_type": "code",
   "execution_count": 6,
   "metadata": {},
   "outputs": [],
   "source": [
    "import tempfile\n",
    "from mmdet.core.evaluation import coco_utils\n",
    "from mmdet.core.post_processing.bbox_nms import multiclass_nms\n",
    "from mmdet.ops.nms import nms_wrapper"
   ]
  },
  {
   "cell_type": "code",
   "execution_count": 7,
   "metadata": {},
   "outputs": [
    {
     "name": "stdout",
     "output_type": "stream",
     "text": [
      "loading annotations into memory...\n",
      "Done (t=0.17s)\n",
      "creating index...\n",
      "index created!\n",
      "load_annotations time: 0.2s from data/VisDrone2019-DET/VisDrone2018-DET-val/annotations_val.json\n"
     ]
    }
   ],
   "source": [
    "cfg = 'visdrone/configs/ssd300.py'\n",
    "cfg = mmcv.Config.fromfile(cfg)\n",
    "# gt_json = cfg.data.test.ann_file\n",
    "dataset = get_dataset(cfg.data.test)"
   ]
  },
  {
   "cell_type": "code",
   "execution_count": 8,
   "metadata": {},
   "outputs": [],
   "source": [
    "txt_dir = '/tmp/fuckyoudir/'"
   ]
  },
  {
   "cell_type": "code",
   "execution_count": 9,
   "metadata": {},
   "outputs": [],
   "source": [
    "def txt2det(fid, num_classes=10):\n",
    "    \"\"\" Returns detecton result from one txt(image)\n",
    "    Args:\n",
    "        fid: opened file handler.\n",
    "    \"\"\"\n",
    "    lines = fid.readlines()\n",
    "    lines = [v.strip('\\n') for v in lines]\n",
    "    lines = [v.split(',') for v in lines]\n",
    "    dets = [[] for _ in range(num_classes)]\n",
    "    for line in lines:\n",
    "        x1, y1, w, h, sc, label, trun, occ = line\n",
    "        label = int(label)\n",
    "        if label == 0 or label == 11:\n",
    "            continue\n",
    "        assert label > 0 and label < 11, 'Bad label'\n",
    "        x1, y1 = int(x1), int(y1)\n",
    "        w, h = int(w), int(h)\n",
    "        score = float(sc)\n",
    "        x2 = x1 + w\n",
    "        y2 = y1 + h\n",
    "        bbox = np.asarray([x1, y1, x2, y2, score], dtype=np.float32)\n",
    "        dets[label - 1].append(bbox)\n",
    "    for i in range(len(dets)):\n",
    "        if len(dets[i]) == 0:\n",
    "            dets[i] = np.empty([0, 5])\n",
    "        else:\n",
    "            dets[i] = np.stack(dets[i], 0)\n",
    "    return dets"
   ]
  },
  {
   "cell_type": "code",
   "execution_count": 10,
   "metadata": {},
   "outputs": [],
   "source": [
    "def get_dets(savedir, dataset):\n",
    "    \"\"\" This function return dets format on original image,\n",
    "    ignoring crops, it calls txt2det(). \n",
    "    \n",
    "    Returns:\n",
    "        list(image) of list(class) of [N, 5]\n",
    "    \"\"\"\n",
    "    results = []\n",
    "    for info in dataset.img_infos:\n",
    "        img_name = info['filename']\n",
    "        stem = img_name.split('.')[0].split('/')[1]\n",
    "\n",
    "        # do merge\n",
    "        for i in range(10):\n",
    "            if i == 9:\n",
    "                exp_name = '{}_{}.txt'.format(stem, i)\n",
    "                exp_name = os.path.join(txt_dir, exp_name)\n",
    "                assert osp.exists(exp_name)\n",
    "                with open(exp_name) as f:\n",
    "                    result = txt2det(f)\n",
    "\n",
    "        results.append(result)    \n",
    "    return results\n",
    "\n",
    "def get_dets_nine_merge(savedir, dataset):\n",
    "    \"\"\" This function return dets format on original image,\n",
    "    MERGE crops, it calls txt2det(). \n",
    "    \n",
    "    Returns:\n",
    "        list(image) of list(class) of [N, 5]\n",
    "    \"\"\"\n",
    "    results = []\n",
    "    for info in dataset.img_infos:\n",
    "        img_name = info['filename']\n",
    "        stem = img_name.split('.')[0].split('/')[1]\n",
    "\n",
    "        # do merge\n",
    "        single_results =  []\n",
    "        for i in range(9):  # not 10\n",
    "            exp_name = '{}_{}.txt'.format(stem, i)\n",
    "            exp_name = os.path.join(txt_dir, exp_name)\n",
    "            assert osp.exists(exp_name)\n",
    "            with open(exp_name) as f:\n",
    "                sin_res = txt2det(f)\n",
    "            single_results.append(sin_res)\n",
    "        \n",
    "        # \n",
    "        num_classes = len(single_results[0])\n",
    "        per_cls_bboxes = [[] for _ in range(num_classes)]  # [ []*10]\n",
    "        for result in single_results:\n",
    "            for i, res in enumerate(result):\n",
    "                per_cls_bboxes[i].append(res)\n",
    "        for i in range(num_classes):\n",
    "            per_cls_bboxes[i] = np.concatenate(per_cls_bboxes[i], 0)\n",
    "            \n",
    "        results.append(per_cls_bboxes)    \n",
    "    return results"
   ]
  },
  {
   "cell_type": "code",
   "execution_count": 11,
   "metadata": {},
   "outputs": [],
   "source": [
    "def get_dets_merge(savedir, dataset):\n",
    "    \"\"\" This function return dets format on original image,\n",
    "    MERGE crops, it calls txt2det(). \n",
    "    \n",
    "    Returns:\n",
    "        list(image) of list(class) of [N, 5]\n",
    "    \"\"\"\n",
    "    results = []\n",
    "    for info in dataset.img_infos:\n",
    "        img_name = info['filename']\n",
    "        stem = img_name.split('.')[0].split('/')[1]\n",
    "\n",
    "        # do merge\n",
    "        single_results =  []\n",
    "        for i in range(10):\n",
    "            exp_name = '{}_{}.txt'.format(stem, i)\n",
    "            exp_name = os.path.join(txt_dir, exp_name)\n",
    "            assert osp.exists(exp_name)\n",
    "            with open(exp_name) as f:\n",
    "                sin_res = txt2det(f)\n",
    "            single_results.append(sin_res)\n",
    "        \n",
    "        # \n",
    "        num_classes = len(single_results[0])\n",
    "        per_cls_bboxes = [[] for _ in range(num_classes)]  # [ []*10]\n",
    "        for result in single_results:\n",
    "            for i, res in enumerate(result):\n",
    "                per_cls_bboxes[i].append(res)\n",
    "        for i in range(num_classes):\n",
    "            per_cls_bboxes[i] = np.concatenate(per_cls_bboxes[i], 0)\n",
    "            \n",
    "        results.append(per_cls_bboxes)    \n",
    "    return results"
   ]
  },
  {
   "cell_type": "code",
   "execution_count": 27,
   "metadata": {},
   "outputs": [],
   "source": [
    "def transfrom_by_refine(results):\n",
    "    for idx, res in enumerate(results):\n",
    "        box_ops.refine_boxes_multi_class(res, 10, 0.5, 500, 0.5)\n",
    "\n",
    "def transform_results_by_nms(results, nms_func, iou_thr = 0.5):\n",
    "    for idx, res in enumerate(results):\n",
    "        if idx% 50 == 0:\n",
    "            print(idx)\n",
    "        for i, c_res in enumerate(res):\n",
    "#             bb, ind = nms_func(c_res.astype(np.float32), iou_thr)\n",
    "            bb, ind = nms_func(c_res, iou_thr)\n",
    "            res[i] = bb\n",
    "    results[idx] = res\n",
    "    return results"
   ]
  },
  {
   "cell_type": "markdown",
   "metadata": {},
   "source": [
    "# Original"
   ]
  },
  {
   "cell_type": "code",
   "execution_count": 32,
   "metadata": {},
   "outputs": [
    {
     "name": "stdout",
     "output_type": "stream",
     "text": [
      "Loading and preparing results...\n",
      "DONE (t=0.57s)\n",
      "creating index...\n",
      "index created!\n",
      "Running per image evaluation...\n",
      "Evaluate annotation type *bbox*\n",
      "DONE (t=46.79s).\n",
      "Accumulating evaluation results...\n",
      "DONE (t=1.06s).\n",
      " Average Precision  (AP) @[ IoU=0.50:0.95 | area=   all | maxDets=100 ] = 0.158\n",
      " Average Precision  (AP) @[ IoU=0.50      | area=   all | maxDets=100 ] = 0.311\n",
      " Average Precision  (AP) @[ IoU=0.75      | area=   all | maxDets=100 ] = 0.147\n",
      " Average Precision  (AP) @[ IoU=0.50:0.95 | area= small | maxDets=100 ] = 0.067\n",
      " Average Precision  (AP) @[ IoU=0.50:0.95 | area=medium | maxDets=100 ] = 0.258\n",
      " Average Precision  (AP) @[ IoU=0.50:0.95 | area= large | maxDets=100 ] = 0.368\n",
      " Average Recall     (AR) @[ IoU=0.50:0.95 | area=   all | maxDets=  1 ] = 0.078\n",
      " Average Recall     (AR) @[ IoU=0.50:0.95 | area=   all | maxDets= 10 ] = 0.206\n",
      " Average Recall     (AR) @[ IoU=0.50:0.95 | area=   all | maxDets=100 ] = 0.262\n",
      " Average Recall     (AR) @[ IoU=0.50:0.95 | area= small | maxDets=100 ] = 0.149\n",
      " Average Recall     (AR) @[ IoU=0.50:0.95 | area=medium | maxDets=100 ] = 0.408\n",
      " Average Recall     (AR) @[ IoU=0.50:0.95 | area= large | maxDets=100 ] = 0.495\n"
     ]
    },
    {
     "data": {
      "text/plain": [
       "{'Precision/mAP': 0.1583621387131612,\n",
       " 'Precision/mAP_.50IOU': 0.3114064199320829,\n",
       " 'Precision/mAP_.75IOU': 0.14689942592288502,\n",
       " 'Precision/mAP_small': 0.06689939720842975,\n",
       " 'Precision/mAP_medium': 0.2576843857351151,\n",
       " 'Precision/mAP_large': 0.36846566961701793,\n",
       " 'Recall/AR_1': 0.07803980081232532,\n",
       " 'Recall/AR_10': 0.20572231472956934,\n",
       " 'Recall/AR_100': 0.26207509006712326,\n",
       " 'Recall/AR_100_small': 0.14856367912645996,\n",
       " 'Recall/AR_100_medium': 0.40767965796510275,\n",
       " 'Recall/AR_100_large': 0.49493765152656577}"
      ]
     },
     "execution_count": 32,
     "metadata": {},
     "output_type": "execute_result"
    }
   ],
   "source": [
    "results = get_dets(savedir=txt_dir, dataset=dataset)\n",
    "tf = tempfile.mkstemp(suffix='.json')\n",
    "js = coco_utils.results2json(dataset, results, tf[1])\n",
    "coco_utils.coco_eval(tf[1], ['bbox'], dataset.coco)"
   ]
  },
  {
   "cell_type": "markdown",
   "metadata": {},
   "source": [
    "# Nine crop 19.9 (NMS) 18.2 (BV)"
   ]
  },
  {
   "cell_type": "code",
   "execution_count": 12,
   "metadata": {},
   "outputs": [],
   "source": [
    "# results = get_dets(savedir=txt_dir, dataset=dataset)\n",
    "results = get_dets_nine_merge(savedir=txt_dir, dataset=dataset)\n",
    "tf = tempfile.mkstemp(suffix='.json')\n",
    "js = coco_utils.results2json(dataset, results, tf[1])\n",
    "coco_utils.coco_eval(tf[1], ['bbox'], dataset.coco)"
   ]
  },
  {
   "cell_type": "code",
   "execution_count": 17,
   "metadata": {},
   "outputs": [],
   "source": [
    "results2 = results.copy()\n",
    "\n",
    "a = time()\n",
    "for idx, res in enumerate(results2):\n",
    "    results2[idx] = box_ops.refine_boxes_multi_class(res, 10, 0.5, 500, 0.5, 'cuda')\n",
    "print(time() - a)"
   ]
  },
  {
   "cell_type": "code",
   "execution_count": 19,
   "metadata": {
    "scrolled": true
   },
   "outputs": [
    {
     "name": "stdout",
     "output_type": "stream",
     "text": [
      "Loading and preparing results...\n",
      "DONE (t=2.66s)\n",
      "creating index...\n",
      "index created!\n",
      "Running per image evaluation...\n",
      "Evaluate annotation type *bbox*\n",
      "DONE (t=56.45s).\n",
      "Accumulating evaluation results...\n",
      "DONE (t=1.47s).\n",
      " Average Precision  (AP) @[ IoU=0.50:0.95 | area=   all | maxDets=100 ] = 0.182\n",
      " Average Precision  (AP) @[ IoU=0.50      | area=   all | maxDets=100 ] = 0.361\n",
      " Average Precision  (AP) @[ IoU=0.75      | area=   all | maxDets=100 ] = 0.162\n",
      " Average Precision  (AP) @[ IoU=0.50:0.95 | area= small | maxDets=100 ] = 0.132\n",
      " Average Precision  (AP) @[ IoU=0.50:0.95 | area=medium | maxDets=100 ] = 0.238\n",
      " Average Precision  (AP) @[ IoU=0.50:0.95 | area= large | maxDets=100 ] = 0.169\n",
      " Average Recall     (AR) @[ IoU=0.50:0.95 | area=   all | maxDets=  1 ] = 0.090\n",
      " Average Recall     (AR) @[ IoU=0.50:0.95 | area=   all | maxDets= 10 ] = 0.265\n",
      " Average Recall     (AR) @[ IoU=0.50:0.95 | area=   all | maxDets=100 ] = 0.345\n",
      " Average Recall     (AR) @[ IoU=0.50:0.95 | area= small | maxDets=100 ] = 0.286\n",
      " Average Recall     (AR) @[ IoU=0.50:0.95 | area=medium | maxDets=100 ] = 0.406\n",
      " Average Recall     (AR) @[ IoU=0.50:0.95 | area= large | maxDets=100 ] = 0.250\n"
     ]
    },
    {
     "data": {
      "text/plain": [
       "{'Precision/mAP': 0.18152895892003873,\n",
       " 'Precision/mAP_.50IOU': 0.36118460621558557,\n",
       " 'Precision/mAP_.75IOU': 0.16235401442423017,\n",
       " 'Precision/mAP_small': 0.1322194113245694,\n",
       " 'Precision/mAP_medium': 0.2376305321307981,\n",
       " 'Precision/mAP_large': 0.16890914307765736,\n",
       " 'Recall/AR_1': 0.08964318150074709,\n",
       " 'Recall/AR_10': 0.2648194551138418,\n",
       " 'Recall/AR_100': 0.34507663813984446,\n",
       " 'Recall/AR_100_small': 0.286048156720386,\n",
       " 'Recall/AR_100_medium': 0.40561617434632735,\n",
       " 'Recall/AR_100_large': 0.25026917021271133}"
      ]
     },
     "execution_count": 19,
     "metadata": {},
     "output_type": "execute_result"
    }
   ],
   "source": [
    "tf = tempfile.mkstemp(suffix='.json')\n",
    "js = coco_utils.results2json(dataset, results2, tf[1])\n",
    "coco_utils.coco_eval(tf[1], ['bbox'], dataset.coco)"
   ]
  },
  {
   "cell_type": "code",
   "execution_count": 25,
   "metadata": {
    "scrolled": true
   },
   "outputs": [
    {
     "name": "stdout",
     "output_type": "stream",
     "text": [
      "0\n",
      "50\n",
      "100\n",
      "150\n",
      "200\n",
      "250\n",
      "300\n",
      "350\n",
      "400\n",
      "450\n",
      "500\n",
      "Loading and preparing results...\n",
      "DONE (t=6.10s)\n",
      "creating index...\n",
      "index created!\n",
      "Running per image evaluation...\n",
      "Evaluate annotation type *bbox*\n",
      "DONE (t=57.52s).\n",
      "Accumulating evaluation results...\n",
      "DONE (t=1.52s).\n",
      " Average Precision  (AP) @[ IoU=0.50:0.95 | area=   all | maxDets=100 ] = 0.199\n",
      " Average Precision  (AP) @[ IoU=0.50      | area=   all | maxDets=100 ] = 0.396\n",
      " Average Precision  (AP) @[ IoU=0.75      | area=   all | maxDets=100 ] = 0.177\n",
      " Average Precision  (AP) @[ IoU=0.50:0.95 | area= small | maxDets=100 ] = 0.144\n",
      " Average Precision  (AP) @[ IoU=0.50:0.95 | area=medium | maxDets=100 ] = 0.272\n",
      " Average Precision  (AP) @[ IoU=0.50:0.95 | area= large | maxDets=100 ] = 0.201\n",
      " Average Recall     (AR) @[ IoU=0.50:0.95 | area=   all | maxDets=  1 ] = 0.090\n",
      " Average Recall     (AR) @[ IoU=0.50:0.95 | area=   all | maxDets= 10 ] = 0.273\n",
      " Average Recall     (AR) @[ IoU=0.50:0.95 | area=   all | maxDets=100 ] = 0.370\n",
      " Average Recall     (AR) @[ IoU=0.50:0.95 | area= small | maxDets=100 ] = 0.305\n",
      " Average Recall     (AR) @[ IoU=0.50:0.95 | area=medium | maxDets=100 ] = 0.450\n",
      " Average Recall     (AR) @[ IoU=0.50:0.95 | area= large | maxDets=100 ] = 0.285\n"
     ]
    },
    {
     "data": {
      "text/plain": [
       "{'Precision/mAP': 0.19934789162412905,\n",
       " 'Precision/mAP_.50IOU': 0.39584313814755995,\n",
       " 'Precision/mAP_.75IOU': 0.17698003778766463,\n",
       " 'Precision/mAP_small': 0.143585849038906,\n",
       " 'Precision/mAP_medium': 0.27173026345722057,\n",
       " 'Precision/mAP_large': 0.20086040007452463,\n",
       " 'Recall/AR_1': 0.08989366138529731,\n",
       " 'Recall/AR_10': 0.27323734467455346,\n",
       " 'Recall/AR_100': 0.3703359690489746,\n",
       " 'Recall/AR_100_small': 0.30546274071794377,\n",
       " 'Recall/AR_100_medium': 0.44968138713575617,\n",
       " 'Recall/AR_100_large': 0.28537364669719056}"
      ]
     },
     "execution_count": 25,
     "metadata": {},
     "output_type": "execute_result"
    }
   ],
   "source": [
    "import functools\n",
    "nms_func = functools.partial(nms_wrapper.nms)\n",
    "ress = transform_results_by_nms(results, nms_func)\n",
    "\n",
    "tf = tempfile.mkstemp(suffix='.json')\n",
    "js = coco_utils.results2json(dataset, ress, tf[1])\n",
    "coco_utils.coco_eval(tf[1], ['bbox'], dataset.coco)"
   ]
  },
  {
   "cell_type": "markdown",
   "metadata": {},
   "source": [
    "# 10 crop"
   ]
  },
  {
   "cell_type": "code",
   "execution_count": 28,
   "metadata": {
    "scrolled": true
   },
   "outputs": [
    {
     "name": "stdout",
     "output_type": "stream",
     "text": [
      "Loading and preparing results...\n",
      "DONE (t=9.52s)\n",
      "creating index...\n",
      "index created!\n",
      "Running per image evaluation...\n",
      "Evaluate annotation type *bbox*\n",
      "DONE (t=65.23s).\n",
      "Accumulating evaluation results...\n",
      "DONE (t=1.92s).\n",
      " Average Precision  (AP) @[ IoU=0.50:0.95 | area=   all | maxDets=100 ] = 0.112\n",
      " Average Precision  (AP) @[ IoU=0.50      | area=   all | maxDets=100 ] = 0.201\n",
      " Average Precision  (AP) @[ IoU=0.75      | area=   all | maxDets=100 ] = 0.109\n",
      " Average Precision  (AP) @[ IoU=0.50:0.95 | area= small | maxDets=100 ] = 0.077\n",
      " Average Precision  (AP) @[ IoU=0.50:0.95 | area=medium | maxDets=100 ] = 0.163\n",
      " Average Precision  (AP) @[ IoU=0.50:0.95 | area= large | maxDets=100 ] = 0.267\n",
      " Average Recall     (AR) @[ IoU=0.50:0.95 | area=   all | maxDets=  1 ] = 0.095\n",
      " Average Recall     (AR) @[ IoU=0.50:0.95 | area=   all | maxDets= 10 ] = 0.245\n",
      " Average Recall     (AR) @[ IoU=0.50:0.95 | area=   all | maxDets=100 ] = 0.417\n",
      " Average Recall     (AR) @[ IoU=0.50:0.95 | area= small | maxDets=100 ] = 0.330\n",
      " Average Recall     (AR) @[ IoU=0.50:0.95 | area=medium | maxDets=100 ] = 0.522\n",
      " Average Recall     (AR) @[ IoU=0.50:0.95 | area= large | maxDets=100 ] = 0.513\n"
     ]
    },
    {
     "data": {
      "text/plain": [
       "{'Precision/mAP': 0.11220081274237778,\n",
       " 'Precision/mAP_.50IOU': 0.20088392625434084,\n",
       " 'Precision/mAP_.75IOU': 0.1085958834019823,\n",
       " 'Precision/mAP_small': 0.07723474704863671,\n",
       " 'Precision/mAP_medium': 0.1630736799805062,\n",
       " 'Precision/mAP_large': 0.26690191022460164,\n",
       " 'Recall/AR_1': 0.09473657483109706,\n",
       " 'Recall/AR_10': 0.24486847911850504,\n",
       " 'Recall/AR_100': 0.416658497362242,\n",
       " 'Recall/AR_100_small': 0.3295318452536646,\n",
       " 'Recall/AR_100_medium': 0.5223041431155542,\n",
       " 'Recall/AR_100_large': 0.5131086261724264}"
      ]
     },
     "execution_count": 28,
     "metadata": {},
     "output_type": "execute_result"
    }
   ],
   "source": [
    "results = get_dets_merge(savedir=txt_dir, dataset=dataset)\n",
    "\n",
    "tf = tempfile.mkstemp(suffix='.json')\n",
    "js = coco_utils.results2json(dataset, results, tf[1])\n",
    "coco_utils.coco_eval(tf[1], ['bbox'], dataset.coco)"
   ]
  },
  {
   "cell_type": "code",
   "execution_count": 29,
   "metadata": {},
   "outputs": [
    {
     "name": "stdout",
     "output_type": "stream",
     "text": [
      "79.14045810699463\n"
     ]
    }
   ],
   "source": [
    "results2 = results.copy()\n",
    "\n",
    "a = time()\n",
    "for idx, res in enumerate(results2):\n",
    "    results2[idx] = box_ops.refine_boxes_multi_class(res, 10, 0.5, 500, 0.5, 'cuda')\n",
    "print(time() - a)"
   ]
  },
  {
   "cell_type": "code",
   "execution_count": 30,
   "metadata": {
    "scrolled": true
   },
   "outputs": [
    {
     "name": "stdout",
     "output_type": "stream",
     "text": [
      "Loading and preparing results...\n",
      "DONE (t=2.62s)\n",
      "creating index...\n",
      "index created!\n",
      "Running per image evaluation...\n",
      "Evaluate annotation type *bbox*\n",
      "DONE (t=59.48s).\n",
      "Accumulating evaluation results...\n",
      "DONE (t=1.55s).\n",
      " Average Precision  (AP) @[ IoU=0.50:0.95 | area=   all | maxDets=100 ] = 0.183\n",
      " Average Precision  (AP) @[ IoU=0.50      | area=   all | maxDets=100 ] = 0.353\n",
      " Average Precision  (AP) @[ IoU=0.75      | area=   all | maxDets=100 ] = 0.170\n",
      " Average Precision  (AP) @[ IoU=0.50:0.95 | area= small | maxDets=100 ] = 0.127\n",
      " Average Precision  (AP) @[ IoU=0.50:0.95 | area=medium | maxDets=100 ] = 0.243\n",
      " Average Precision  (AP) @[ IoU=0.50:0.95 | area= large | maxDets=100 ] = 0.228\n",
      " Average Recall     (AR) @[ IoU=0.50:0.95 | area=   all | maxDets=  1 ] = 0.092\n",
      " Average Recall     (AR) @[ IoU=0.50:0.95 | area=   all | maxDets= 10 ] = 0.272\n",
      " Average Recall     (AR) @[ IoU=0.50:0.95 | area=   all | maxDets=100 ] = 0.357\n",
      " Average Recall     (AR) @[ IoU=0.50:0.95 | area= small | maxDets=100 ] = 0.289\n",
      " Average Recall     (AR) @[ IoU=0.50:0.95 | area=medium | maxDets=100 ] = 0.428\n",
      " Average Recall     (AR) @[ IoU=0.50:0.95 | area= large | maxDets=100 ] = 0.376\n"
     ]
    },
    {
     "data": {
      "text/plain": [
       "{'Precision/mAP': 0.18304350687001456,\n",
       " 'Precision/mAP_.50IOU': 0.35331328503357784,\n",
       " 'Precision/mAP_.75IOU': 0.17034149981582647,\n",
       " 'Precision/mAP_small': 0.12705158205697883,\n",
       " 'Precision/mAP_medium': 0.24295604260602963,\n",
       " 'Precision/mAP_large': 0.22790424703683193,\n",
       " 'Recall/AR_1': 0.09235347186580027,\n",
       " 'Recall/AR_10': 0.2720781807554025,\n",
       " 'Recall/AR_100': 0.3567038433928441,\n",
       " 'Recall/AR_100_small': 0.28946884417197705,\n",
       " 'Recall/AR_100_medium': 0.4283635875455585,\n",
       " 'Recall/AR_100_large': 0.376045742378444}"
      ]
     },
     "execution_count": 30,
     "metadata": {},
     "output_type": "execute_result"
    }
   ],
   "source": [
    "tf = tempfile.mkstemp(suffix='.json')\n",
    "js = coco_utils.results2json(dataset, results2, tf[1])\n",
    "coco_utils.coco_eval(tf[1], ['bbox'], dataset.coco)"
   ]
  },
  {
   "cell_type": "code",
   "execution_count": 31,
   "metadata": {},
   "outputs": [
    {
     "name": "stdout",
     "output_type": "stream",
     "text": [
      "0\n",
      "50\n",
      "100\n",
      "150\n",
      "200\n",
      "250\n",
      "300\n",
      "350\n",
      "400\n",
      "450\n",
      "500\n",
      "Loading and preparing results...\n",
      "DONE (t=6.86s)\n",
      "creating index...\n",
      "index created!\n",
      "Running per image evaluation...\n",
      "Evaluate annotation type *bbox*\n",
      "DONE (t=63.56s).\n",
      "Accumulating evaluation results...\n",
      "DONE (t=1.69s).\n",
      " Average Precision  (AP) @[ IoU=0.50:0.95 | area=   all | maxDets=100 ] = 0.213\n",
      " Average Precision  (AP) @[ IoU=0.50      | area=   all | maxDets=100 ] = 0.412\n",
      " Average Precision  (AP) @[ IoU=0.75      | area=   all | maxDets=100 ] = 0.193\n",
      " Average Precision  (AP) @[ IoU=0.50:0.95 | area= small | maxDets=100 ] = 0.143\n",
      " Average Precision  (AP) @[ IoU=0.50:0.95 | area=medium | maxDets=100 ] = 0.295\n",
      " Average Precision  (AP) @[ IoU=0.50:0.95 | area= large | maxDets=100 ] = 0.347\n",
      " Average Recall     (AR) @[ IoU=0.50:0.95 | area=   all | maxDets=  1 ] = 0.095\n",
      " Average Recall     (AR) @[ IoU=0.50:0.95 | area=   all | maxDets= 10 ] = 0.282\n",
      " Average Recall     (AR) @[ IoU=0.50:0.95 | area=   all | maxDets=100 ] = 0.384\n",
      " Average Recall     (AR) @[ IoU=0.50:0.95 | area= small | maxDets=100 ] = 0.309\n",
      " Average Recall     (AR) @[ IoU=0.50:0.95 | area=medium | maxDets=100 ] = 0.476\n",
      " Average Recall     (AR) @[ IoU=0.50:0.95 | area= large | maxDets=100 ] = 0.484\n"
     ]
    },
    {
     "data": {
      "text/plain": [
       "{'Precision/mAP': 0.21313772651642726,\n",
       " 'Precision/mAP_.50IOU': 0.41238686011696435,\n",
       " 'Precision/mAP_.75IOU': 0.1932186954267904,\n",
       " 'Precision/mAP_small': 0.14309864894602342,\n",
       " 'Precision/mAP_medium': 0.29454960950873404,\n",
       " 'Precision/mAP_large': 0.34678927472224863,\n",
       " 'Recall/AR_1': 0.09473586379582971,\n",
       " 'Recall/AR_10': 0.2824933560135721,\n",
       " 'Recall/AR_100': 0.38428789856128254,\n",
       " 'Recall/AR_100_small': 0.308652821923981,\n",
       " 'Recall/AR_100_medium': 0.47575187036337424,\n",
       " 'Recall/AR_100_large': 0.4841151369574703}"
      ]
     },
     "execution_count": 31,
     "metadata": {},
     "output_type": "execute_result"
    }
   ],
   "source": [
    "import functools\n",
    "nms_func = functools.partial(nms_wrapper.nms)\n",
    "ress = transform_results_by_nms(results, nms_func)\n",
    "\n",
    "tf = tempfile.mkstemp(suffix='.json')\n",
    "js = coco_utils.results2json(dataset, ress, tf[1])\n",
    "coco_utils.coco_eval(tf[1], ['bbox'], dataset.coco)"
   ]
  },
  {
   "cell_type": "code",
   "execution_count": null,
   "metadata": {},
   "outputs": [],
   "source": []
  }
 ],
 "metadata": {
  "kernelspec": {
   "display_name": "Python 3",
   "language": "python",
   "name": "python3"
  },
  "language_info": {
   "codemirror_mode": {
    "name": "ipython",
    "version": 3
   },
   "file_extension": ".py",
   "mimetype": "text/x-python",
   "name": "python",
   "nbconvert_exporter": "python",
   "pygments_lexer": "ipython3",
   "version": "3.7.3"
  },
  "toc": {
   "base_numbering": 1,
   "nav_menu": {},
   "number_sections": true,
   "sideBar": true,
   "skip_h1_title": false,
   "title_cell": "Table of Contents",
   "title_sidebar": "Contents",
   "toc_cell": false,
   "toc_position": {},
   "toc_section_display": true,
   "toc_window_display": false
  }
 },
 "nbformat": 4,
 "nbformat_minor": 2
}
