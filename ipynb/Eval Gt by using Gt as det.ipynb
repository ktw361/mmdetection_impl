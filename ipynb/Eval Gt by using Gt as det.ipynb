{
 "cells": [
  {
   "cell_type": "code",
   "execution_count": 1,
   "metadata": {},
   "outputs": [],
   "source": [
    "import os\n",
    "import os.path as osp\n",
    "import numpy as np\n",
    "import torch, torchvision\n",
    "from torch import nn\n",
    "from torch.utils import model_zoo\n",
    "from torch.nn.parallel import DataParallel\n",
    "from torch.utils.data import DataLoader\n",
    "from torch.utils.data.dataset import ConcatDataset\n",
    "%load_ext autoreload\n",
    "%autoreload 2"
   ]
  },
  {
   "cell_type": "code",
   "execution_count": 2,
   "metadata": {},
   "outputs": [],
   "source": [
    "import hashlib\n",
    "import mmcv\n",
    "def gt_as_det(img_prefix, ann_dir='annotations', img_dir='images'):\n",
    "    \"\"\" What we need is list of dict with:\n",
    "        {'score', 'bbox', 'image_id', 'category_id'}\n",
    "    \"\"\"\n",
    "    all_images = osp.join(img_prefix, img_dir)\n",
    "    all_annos = osp.join(img_prefix, ann_dir)\n",
    "\n",
    "    detections = []\n",
    "    for img_ind, img_name in enumerate(os.listdir(all_images)):\n",
    "        stem = img_name.split('.')[0]\n",
    "        ann_name = stem + '.txt'\n",
    "        img_full_path = osp.join(all_images, img_name)\n",
    "        ann_full_path = osp.join(all_annos, ann_name)\n",
    "\n",
    "        image_id = int(hashlib.sha256(stem.encode('utf8')).hexdigest(), 16) % (10 ** 8)\n",
    "\n",
    "        with open(ann_full_path, 'r') as f:\n",
    "            lines = f.readlines()\n",
    "            lines = [v.strip('\\n') for v in lines]\n",
    "            lines = [v.split(',') for v in lines]\n",
    "            lines = np.asarray(lines)[:, :8].astype(np.int32)\n",
    "\n",
    "        for line in lines:\n",
    "            x1, y1, w, h, sc, label, trun, occ = line\n",
    "            label = int(label)\n",
    "            if label == 0 or label == 11:\n",
    "                # ignore ignore(0) and others(11)\n",
    "                continue\n",
    "            assert label > 0 and label < 11, 'Bad annotation label'\n",
    "            x2, y2 = x1 + w, y1 + h\n",
    "            # label is number, '0' is background\n",
    "            bbox = np.asarray([x1, y1, x2, y2]).tolist()\n",
    "            id = str(stem) + str(bbox)\n",
    "            id = int(hashlib.sha256(id.encode('utf8')).hexdigest(), 16) % (10 ** 12)\n",
    "\n",
    "            _det = dict(\n",
    "                image_id=image_id,\n",
    "                bbox=bbox,\n",
    "                category_id=label,\n",
    "                score=1,\n",
    "            )\n",
    "            detections.append(_det)\n",
    "\n",
    "    return detections"
   ]
  },
  {
   "cell_type": "code",
   "execution_count": 3,
   "metadata": {},
   "outputs": [],
   "source": [
    "detections = gt_as_det('/home/damon/DATASETS/Drone2019/VisDrone2019-DET/VisDrone2018-DET-val/')"
   ]
  },
  {
   "cell_type": "code",
   "execution_count": 4,
   "metadata": {},
   "outputs": [],
   "source": [
    "save_file = '/tmp/gtdt.json'\n",
    "mmcv.dump(detections, save_file)"
   ]
  },
  {
   "cell_type": "markdown",
   "metadata": {},
   "source": [
    "# Now eval on coco"
   ]
  },
  {
   "cell_type": "code",
   "execution_count": 5,
   "metadata": {},
   "outputs": [],
   "source": [
    "from pycocotools.coco import COCO\n",
    "from pycocotools.cocoeval import COCOeval"
   ]
  },
  {
   "cell_type": "code",
   "execution_count": 16,
   "metadata": {},
   "outputs": [
    {
     "name": "stdout",
     "output_type": "stream",
     "text": [
      "loading annotations into memory...\n",
      "Done (t=0.05s)\n",
      "creating index...\n",
      "index created!\n"
     ]
    }
   ],
   "source": [
    "cocoGt = COCO('/home/damon/DATASETS/Drone2019/VisDrone2019-DET/VisDrone2018-DET-val/annotations_val.json')"
   ]
  },
  {
   "cell_type": "code",
   "execution_count": 17,
   "metadata": {},
   "outputs": [
    {
     "name": "stdout",
     "output_type": "stream",
     "text": [
      "Loading and preparing results...\n",
      "DONE (t=0.18s)\n",
      "creating index...\n",
      "index created!\n"
     ]
    }
   ],
   "source": [
    "cocoDt = cocoGt.loadRes(save_file)"
   ]
  },
  {
   "cell_type": "code",
   "execution_count": 8,
   "metadata": {},
   "outputs": [],
   "source": [
    "imgIds = sorted(cocoGt.getImgIds())\n",
    "# imgIds = imgIds[0:100]\n",
    "# imgId = imgIds[np.random.randint(100)]"
   ]
  },
  {
   "cell_type": "code",
   "execution_count": 9,
   "metadata": {},
   "outputs": [
    {
     "name": "stdout",
     "output_type": "stream",
     "text": [
      "Running per image evaluation...\n",
      "Evaluate annotation type *bbox*\n",
      "DONE (t=21.99s).\n",
      "Accumulating evaluation results...\n",
      "DONE (t=0.51s).\n",
      " Average Precision  (AP) @[ IoU=0.50:0.95 | area=   all | maxDets=100 ] = 0.000\n",
      " Average Precision  (AP) @[ IoU=0.50      | area=   all | maxDets=100 ] = 0.000\n",
      " Average Precision  (AP) @[ IoU=0.75      | area=   all | maxDets=100 ] = 0.000\n",
      " Average Precision  (AP) @[ IoU=0.50:0.95 | area= small | maxDets=100 ] = 0.000\n",
      " Average Precision  (AP) @[ IoU=0.50:0.95 | area=medium | maxDets=100 ] = 0.001\n",
      " Average Precision  (AP) @[ IoU=0.50:0.95 | area= large | maxDets=100 ] = 0.000\n",
      " Average Recall     (AR) @[ IoU=0.50:0.95 | area=   all | maxDets=  1 ] = 0.000\n",
      " Average Recall     (AR) @[ IoU=0.50:0.95 | area=   all | maxDets= 10 ] = 0.000\n",
      " Average Recall     (AR) @[ IoU=0.50:0.95 | area=   all | maxDets=100 ] = 0.000\n",
      " Average Recall     (AR) @[ IoU=0.50:0.95 | area= small | maxDets=100 ] = 0.000\n",
      " Average Recall     (AR) @[ IoU=0.50:0.95 | area=medium | maxDets=100 ] = 0.000\n",
      " Average Recall     (AR) @[ IoU=0.50:0.95 | area= large | maxDets=100 ] = 0.003\n"
     ]
    }
   ],
   "source": [
    "annType = 'bbox'\n",
    "cocoEval = COCOeval(cocoGt, cocoDt, annType)\n",
    "cocoEval.params.imgIds = imgIds\n",
    "cocoEval.evaluate()\n",
    "cocoEval.accumulate()\n",
    "cocoEval.summarize()"
   ]
  },
  {
   "cell_type": "code",
   "execution_count": 11,
   "metadata": {},
   "outputs": [
    {
     "data": {
      "text/plain": [
       "array([1.57119735e-05, 3.79253954e-05, 6.72295380e-07, 1.71017102e-04,\n",
       "       9.28217822e-04, 3.90604691e-06, 1.47677956e-04, 1.75664960e-04,\n",
       "       1.88720224e-04, 2.15485493e-05, 1.21083761e-04, 2.78930496e-03])"
      ]
     },
     "execution_count": 11,
     "metadata": {},
     "output_type": "execute_result"
    }
   ],
   "source": [
    "cocoEval.stats"
   ]
  }
 ],
 "metadata": {
  "kernelspec": {
   "display_name": "Python 3",
   "language": "python",
   "name": "python3"
  },
  "language_info": {
   "codemirror_mode": {
    "name": "ipython",
    "version": 3
   },
   "file_extension": ".py",
   "mimetype": "text/x-python",
   "name": "python",
   "nbconvert_exporter": "python",
   "pygments_lexer": "ipython3",
   "version": "3.7.3"
  },
  "toc": {
   "base_numbering": 1,
   "nav_menu": {},
   "number_sections": true,
   "sideBar": true,
   "skip_h1_title": false,
   "title_cell": "Table of Contents",
   "title_sidebar": "Contents",
   "toc_cell": false,
   "toc_position": {},
   "toc_section_display": true,
   "toc_window_display": true
  }
 },
 "nbformat": 4,
 "nbformat_minor": 2
}
