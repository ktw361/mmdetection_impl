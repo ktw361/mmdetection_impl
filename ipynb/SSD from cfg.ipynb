{
 "cells": [
  {
   "cell_type": "code",
   "execution_count": 4,
   "metadata": {},
   "outputs": [],
   "source": [
    "import os\n",
    "os.chdir('/home/damon/Github/mmlab/mmdetection/')\n",
    "import os.path as osp\n",
    "import sys\n",
    "import numpy as np\n",
    "import torch, torchvision\n",
    "from torch import nn\n",
    "from torch.utils import model_zoo\n",
    "from torch.nn.parallel import DataParallel\n",
    "from torch.utils.data import DataLoader\n",
    "from torch.utils.data.dataset import ConcatDataset\n",
    "# %load_ext autoreload\n",
    "# %autoreload 2\n",
    "from torchsummary import summary"
   ]
  },
  {
   "cell_type": "code",
   "execution_count": 5,
   "metadata": {},
   "outputs": [],
   "source": [
    "import mmdet\n",
    "import mmcv\n",
    "from mmdet.models import build_detector\n",
    "from mmcv.parallel import MMDataParallel\n",
    "from mmdet.datasets import get_dataset\n",
    "from mmdet.datasets import transforms"
   ]
  },
  {
   "cell_type": "code",
   "execution_count": 6,
   "metadata": {
    "scrolled": true
   },
   "outputs": [
    {
     "name": "stderr",
     "output_type": "stream",
     "text": [
      "missing keys in source state_dict: extra.0.weight, extra.2.bias, extra.7.bias, extra.3.weight, extra.1.weight, extra.1.bias, extra.5.bias, extra.6.weight, extra.2.weight, l2_norm.weight, extra.5.weight, extra.4.weight, extra.4.bias, extra.7.weight, extra.6.bias, extra.0.bias, extra.3.bias\n",
      "\n"
     ]
    },
    {
     "name": "stdout",
     "output_type": "stream",
     "text": [
      "loaded:  {'features.21.bias', 'features.33.weight', 'features.26.bias', 'features.21.weight', 'features.24.weight', 'features.14.weight', 'features.12.weight', 'features.28.bias', 'features.26.weight', 'features.10.weight', 'features.24.bias', 'features.12.bias', 'features.17.bias', 'features.0.bias', 'features.7.weight', 'features.17.weight', 'features.19.bias', 'features.31.bias', 'features.33.bias', 'features.2.bias', 'features.28.weight', 'features.2.weight', 'features.5.bias', 'features.19.weight', 'features.10.bias', 'features.7.bias', 'features.0.weight', 'features.5.weight', 'features.14.bias', 'features.31.weight'}\n"
     ]
    }
   ],
   "source": [
    "# Get cfg\n",
    "import mmcv\n",
    "config_file = 'visdrone/configs/ssd300.py'\n",
    "cfg = mmcv.Config.fromfile(config_file)\n",
    "\n",
    "\n",
    "# Get model\n",
    "from mmdet.models import build_detector\n",
    "ssd = build_detector(cfg.model, train_cfg=cfg.train_cfg, test_cfg=cfg.test_cfg)"
   ]
  },
  {
   "cell_type": "code",
   "execution_count": 7,
   "metadata": {},
   "outputs": [],
   "source": [
    "ssd = MMDataParallel(ssd)"
   ]
  },
  {
   "cell_type": "markdown",
   "metadata": {},
   "source": [
    "# Dataset"
   ]
  },
  {
   "cell_type": "code",
   "execution_count": 8,
   "metadata": {},
   "outputs": [
    {
     "name": "stdout",
     "output_type": "stream",
     "text": [
      "loading annotations into memory...\n",
      "Done (t=0.77s)\n",
      "creating index...\n",
      "index created!\n",
      "load_annotations time: 0.9s from data/VisDrone2019-DET/VisDrone2018-DET-train/annotations_train.json\n"
     ]
    }
   ],
   "source": [
    "from mmdet.datasets import get_dataset\n",
    "train_ds = get_dataset(cfg.data.train)  # is a repeated dataset\n",
    "train_ds = train_ds.dataset\n",
    "# data_loader = mmdet.datasets.build_dataloader(train_ds, imgs_per_gpu=4, workers_per_gpu=1, dist=False)\n",
    "\n",
    "extract_dc = lambda dc: {k:v.data for k, v in dc.items()}\n",
    "\n",
    "data_loader = mmdet.datasets.build_dataloader(train_ds, imgs_per_gpu=4, workers_per_gpu=1, dist=False)\n",
    "ssd_input = iter(data_loader).next()"
   ]
  },
  {
   "cell_type": "code",
   "execution_count": null,
   "metadata": {},
   "outputs": [],
   "source": [
    "ssd(**ssd_input)"
   ]
  },
  {
   "cell_type": "markdown",
   "metadata": {},
   "source": [
    "# Backbone"
   ]
  },
  {
   "cell_type": "code",
   "execution_count": 9,
   "metadata": {},
   "outputs": [],
   "source": [
    "input_size =  (3, 300, 300)\n",
    "ssdmodule = ssd.module\n",
    "backbone = ssd.module.backbone\n",
    "bbox_head = ssd.module.bbox_head"
   ]
  },
  {
   "cell_type": "code",
   "execution_count": null,
   "metadata": {},
   "outputs": [],
   "source": [
    "x = torch.zeros([1,3,300,300]).cuda()\n",
    "fea_map = backbone(x)"
   ]
  },
  {
   "cell_type": "code",
   "execution_count": 13,
   "metadata": {
    "scrolled": true
   },
   "outputs": [
    {
     "name": "stdout",
     "output_type": "stream",
     "text": [
      "----------------------------------------------------------------\n",
      "        Layer (type)               Output Shape         Param #\n",
      "================================================================\n",
      "            Conv2d-1         [-1, 64, 300, 300]           1,792\n",
      "              ReLU-2         [-1, 64, 300, 300]               0\n",
      "            Conv2d-3         [-1, 64, 300, 300]          36,928\n",
      "              ReLU-4         [-1, 64, 300, 300]               0\n",
      "         MaxPool2d-5         [-1, 64, 150, 150]               0\n",
      "            Conv2d-6        [-1, 128, 150, 150]          73,856\n",
      "              ReLU-7        [-1, 128, 150, 150]               0\n",
      "            Conv2d-8        [-1, 128, 150, 150]         147,584\n",
      "              ReLU-9        [-1, 128, 150, 150]               0\n",
      "        MaxPool2d-10          [-1, 128, 75, 75]               0\n",
      "           Conv2d-11          [-1, 256, 75, 75]         295,168\n",
      "             ReLU-12          [-1, 256, 75, 75]               0\n",
      "           Conv2d-13          [-1, 256, 75, 75]         590,080\n",
      "             ReLU-14          [-1, 256, 75, 75]               0\n",
      "           Conv2d-15          [-1, 256, 75, 75]         590,080\n",
      "             ReLU-16          [-1, 256, 75, 75]               0\n",
      "        MaxPool2d-17          [-1, 256, 38, 38]               0\n",
      "           Conv2d-18          [-1, 512, 38, 38]       1,180,160\n",
      "             ReLU-19          [-1, 512, 38, 38]               0\n",
      "           Conv2d-20          [-1, 512, 38, 38]       2,359,808\n",
      "             ReLU-21          [-1, 512, 38, 38]               0\n",
      "           Conv2d-22          [-1, 512, 38, 38]       2,359,808\n",
      "             ReLU-23          [-1, 512, 38, 38]               0\n",
      "        MaxPool2d-24          [-1, 512, 19, 19]               0\n",
      "           Conv2d-25          [-1, 512, 19, 19]       2,359,808\n",
      "             ReLU-26          [-1, 512, 19, 19]               0\n",
      "           Conv2d-27          [-1, 512, 19, 19]       2,359,808\n",
      "             ReLU-28          [-1, 512, 19, 19]               0\n",
      "           Conv2d-29          [-1, 512, 19, 19]       2,359,808\n",
      "             ReLU-30          [-1, 512, 19, 19]               0\n",
      "        MaxPool2d-31          [-1, 512, 19, 19]               0\n",
      "           Conv2d-32         [-1, 1024, 19, 19]       4,719,616\n",
      "             ReLU-33         [-1, 1024, 19, 19]               0\n",
      "           Conv2d-34         [-1, 1024, 19, 19]       1,049,600\n",
      "             ReLU-35         [-1, 1024, 19, 19]               0\n",
      "================================================================\n",
      "Total params: 20,483,904\n",
      "Trainable params: 20,483,904\n",
      "Non-trainable params: 0\n",
      "----------------------------------------------------------------\n",
      "Input size (MB): 1.03\n",
      "Forward/backward pass size (MB): 405.30\n",
      "Params size (MB): 78.14\n",
      "Estimated Total Size (MB): 484.47\n",
      "----------------------------------------------------------------\n"
     ]
    }
   ],
   "source": [
    "summary(backbone.features, input_size)"
   ]
  },
  {
   "cell_type": "code",
   "execution_count": 12,
   "metadata": {
    "scrolled": true
   },
   "outputs": [
    {
     "name": "stdout",
     "output_type": "stream",
     "text": [
      "----------------------------------------------------------------\n",
      "        Layer (type)               Output Shape         Param #\n",
      "================================================================\n",
      "            Conv2d-1         [-1, 64, 300, 300]           1,792\n",
      "              ReLU-2         [-1, 64, 300, 300]               0\n",
      "            Conv2d-3         [-1, 64, 300, 300]          36,928\n",
      "              ReLU-4         [-1, 64, 300, 300]               0\n",
      "         MaxPool2d-5         [-1, 64, 150, 150]               0\n",
      "            Conv2d-6        [-1, 128, 150, 150]          73,856\n",
      "              ReLU-7        [-1, 128, 150, 150]               0\n",
      "            Conv2d-8        [-1, 128, 150, 150]         147,584\n",
      "              ReLU-9        [-1, 128, 150, 150]               0\n",
      "        MaxPool2d-10          [-1, 128, 75, 75]               0\n",
      "           Conv2d-11          [-1, 256, 75, 75]         295,168\n",
      "             ReLU-12          [-1, 256, 75, 75]               0\n",
      "           Conv2d-13          [-1, 256, 75, 75]         590,080\n",
      "             ReLU-14          [-1, 256, 75, 75]               0\n",
      "           Conv2d-15          [-1, 256, 75, 75]         590,080\n",
      "             ReLU-16          [-1, 256, 75, 75]               0\n",
      "        MaxPool2d-17          [-1, 256, 38, 38]               0\n",
      "           Conv2d-18          [-1, 512, 38, 38]       1,180,160\n",
      "             ReLU-19          [-1, 512, 38, 38]               0\n",
      "           Conv2d-20          [-1, 512, 38, 38]       2,359,808\n",
      "             ReLU-21          [-1, 512, 38, 38]               0\n",
      "           Conv2d-22          [-1, 512, 38, 38]       2,359,808\n",
      "             ReLU-23          [-1, 512, 38, 38]               0\n",
      "        MaxPool2d-24          [-1, 512, 19, 19]               0\n",
      "           Conv2d-25          [-1, 512, 19, 19]       2,359,808\n",
      "             ReLU-26          [-1, 512, 19, 19]               0\n",
      "           Conv2d-27          [-1, 512, 19, 19]       2,359,808\n",
      "             ReLU-28          [-1, 512, 19, 19]               0\n",
      "           Conv2d-29          [-1, 512, 19, 19]       2,359,808\n",
      "             ReLU-30          [-1, 512, 19, 19]               0\n",
      "        MaxPool2d-31          [-1, 512, 19, 19]               0\n",
      "           Conv2d-32         [-1, 1024, 19, 19]       4,719,616\n",
      "             ReLU-33         [-1, 1024, 19, 19]               0\n",
      "           Conv2d-34         [-1, 1024, 19, 19]       1,049,600\n",
      "             ReLU-35         [-1, 1024, 19, 19]               0\n",
      "           Conv2d-36          [-1, 256, 19, 19]         262,400\n",
      "           Conv2d-37          [-1, 512, 10, 10]       1,180,160\n",
      "           Conv2d-38          [-1, 128, 10, 10]          65,664\n",
      "           Conv2d-39            [-1, 256, 5, 5]         295,168\n",
      "           Conv2d-40            [-1, 128, 5, 5]          32,896\n",
      "           Conv2d-41            [-1, 256, 3, 3]         295,168\n",
      "           Conv2d-42            [-1, 128, 3, 3]          32,896\n",
      "           Conv2d-43            [-1, 256, 1, 1]         295,168\n",
      "           L2Norm-44          [-1, 512, 38, 38]             512\n",
      "================================================================\n",
      "Total params: 22,943,936\n",
      "Trainable params: 22,943,936\n",
      "Non-trainable params: 0\n",
      "----------------------------------------------------------------\n",
      "Input size (MB): 1.03\n",
      "Forward/backward pass size (MB): 412.23\n",
      "Params size (MB): 87.52\n",
      "Estimated Total Size (MB): 500.79\n",
      "----------------------------------------------------------------\n"
     ]
    }
   ],
   "source": [
    "summary(backbone, input_size)"
   ]
  },
  {
   "cell_type": "code",
   "execution_count": null,
   "metadata": {},
   "outputs": [],
   "source": [
    "bbox_head"
   ]
  },
  {
   "cell_type": "code",
   "execution_count": null,
   "metadata": {},
   "outputs": [],
   "source": [
    "reg_out = bbox_head(fea_map)[0]\n",
    "[v.shape for v in reg_out]"
   ]
  },
  {
   "cell_type": "code",
   "execution_count": null,
   "metadata": {},
   "outputs": [],
   "source": [
    "cls_out = bbox_head(fea_map)[1]\n",
    "[v.shape for v in cls_out]"
   ]
  },
  {
   "cell_type": "markdown",
   "metadata": {},
   "source": [
    "# bboxx_head loss"
   ]
  },
  {
   "cell_type": "code",
   "execution_count": null,
   "metadata": {},
   "outputs": [],
   "source": [
    "lossinput = bbox_head(fea_map)"
   ]
  },
  {
   "cell_type": "code",
   "execution_count": null,
   "metadata": {},
   "outputs": [],
   "source": []
  },
  {
   "cell_type": "markdown",
   "metadata": {},
   "source": [
    "# Transfroms"
   ]
  },
  {
   "cell_type": "code",
   "execution_count": null,
   "metadata": {},
   "outputs": [],
   "source": [
    "from mmdet.datasets import transforms"
   ]
  },
  {
   "cell_type": "code",
   "execution_count": null,
   "metadata": {
    "scrolled": true
   },
   "outputs": [],
   "source": [
    "img = np.zeros([ 400, 400, 3])\n",
    "transforms.Numpy2Tensor()(img)"
   ]
  },
  {
   "cell_type": "code",
   "execution_count": null,
   "metadata": {},
   "outputs": [],
   "source": [
    "bboxes = np.random.rand(20, 4)"
   ]
  },
  {
   "cell_type": "code",
   "execution_count": null,
   "metadata": {},
   "outputs": [],
   "source": [
    "from mmcv.image.transforms import geometry"
   ]
  },
  {
   "cell_type": "code",
   "execution_count": null,
   "metadata": {
    "scrolled": true
   },
   "outputs": [],
   "source": [
    "geometry.impad(img, (411, 411), pad_val=2).shape"
   ]
  },
  {
   "cell_type": "code",
   "execution_count": null,
   "metadata": {},
   "outputs": [],
   "source": [
    "pad = np.empty((411,411))"
   ]
  }
 ],
 "metadata": {
  "kernelspec": {
   "display_name": "Python 3",
   "language": "python",
   "name": "python3"
  },
  "language_info": {
   "codemirror_mode": {
    "name": "ipython",
    "version": 3
   },
   "file_extension": ".py",
   "mimetype": "text/x-python",
   "name": "python",
   "nbconvert_exporter": "python",
   "pygments_lexer": "ipython3",
   "version": "3.7.3"
  },
  "toc": {
   "base_numbering": 1,
   "nav_menu": {},
   "number_sections": true,
   "sideBar": true,
   "skip_h1_title": false,
   "title_cell": "Table of Contents",
   "title_sidebar": "Contents",
   "toc_cell": false,
   "toc_position": {},
   "toc_section_display": true,
   "toc_window_display": false
  }
 },
 "nbformat": 4,
 "nbformat_minor": 2
}
