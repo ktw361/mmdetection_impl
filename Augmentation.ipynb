{
 "cells": [
  {
   "cell_type": "code",
   "execution_count": 1,
   "metadata": {},
   "outputs": [],
   "source": [
    "import mmcv\n",
    "import numpy as np\n",
    "import matplotlib.pyplot as plt\n",
    "import sys\n",
    "%load_ext autoreload\n",
    "%autoreload 2\n",
    "sys.path.append('/home/damon/detorch/')\n",
    "from visualization_utils import *\n",
    "from debug_utils import *"
   ]
  },
  {
   "cell_type": "code",
   "execution_count": 8,
   "metadata": {},
   "outputs": [],
   "source": [
    "from visdrone.utils.test_augs import *\n",
    "from mmdet.datasets import get_dataset"
   ]
  },
  {
   "cell_type": "code",
   "execution_count": 10,
   "metadata": {},
   "outputs": [],
   "source": [
    "# cfg = '/home/damon/DATASETS/Drone2019/VisDrone2019-DET/VisDrone2018-DET-val/'\n",
    "cfg = './visdrone/configs/ssd300.py'\n",
    "cfg = mmcv.Config.fromfile(cfg)"
   ]
  },
  {
   "cell_type": "raw",
   "metadata": {},
   "source": [
    "target_dir = '/home/damon/Documents/visdrone-augval'\n",
    "if not os.path.exists(target_dir):\n",
    "    os.mkdir(target_dir)"
   ]
  },
  {
   "cell_type": "raw",
   "metadata": {},
   "source": [
    "# DO NOT RUN, IT WILL CREATE FILES\n",
    "progbar = mmcv.ProgressBar(len(dataset.img_infos) * 10)\n",
    "for info in dataset.img_infos:\n",
    "    img_name = os.path.join(dataset.img_prefix, info['filename'])\n",
    "    img = mmcv.imread(img_name)\n",
    "    ori_shape = (info['height'], info['width'])\n",
    "    crops, coors = get10crops(img, ori_shape)\n",
    "    stem = info['filename'].split('.')[-2].split('/')[1]\n",
    "    for i, crop in enumerate(crops):\n",
    "        save_name = '{}_{}.jpg'.format(stem, i)\n",
    "        save_name = os.path.join(target_dir, save_name)\n",
    "        progbar.update()\n",
    "        mmcv.imwrite(crop, save_name)"
   ]
  }
 ],
 "metadata": {
  "kernelspec": {
   "display_name": "Python 3",
   "language": "python",
   "name": "python3"
  },
  "language_info": {
   "codemirror_mode": {
    "name": "ipython",
    "version": 3
   },
   "file_extension": ".py",
   "mimetype": "text/x-python",
   "name": "python",
   "nbconvert_exporter": "python",
   "pygments_lexer": "ipython3",
   "version": "3.7.3"
  },
  "toc": {
   "base_numbering": 1,
   "nav_menu": {},
   "number_sections": true,
   "sideBar": true,
   "skip_h1_title": false,
   "title_cell": "Table of Contents",
   "title_sidebar": "Contents",
   "toc_cell": false,
   "toc_position": {},
   "toc_section_display": true,
   "toc_window_display": false
  }
 },
 "nbformat": 4,
 "nbformat_minor": 2
}
